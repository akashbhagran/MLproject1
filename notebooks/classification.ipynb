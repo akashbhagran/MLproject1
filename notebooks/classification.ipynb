{
 "cells": [
  {
   "cell_type": "code",
   "execution_count": 1,
   "id": "215d6d77-6e49-4762-90e0-e117bdad8cab",
   "metadata": {},
   "outputs": [],
   "source": [
    "import torch\n",
    "from torchvision.models.detection import retinanet_resnet50_fpn\n",
    "from torchvision.transforms import functional as F\n",
    "from PIL import Image\n",
    "\n",
    "import torchvision.datasets as datasets\n",
    "import torchvision.transforms as transforms"
   ]
  },
  {
   "cell_type": "code",
   "execution_count": 3,
   "id": "d815095e-979b-4de9-8a28-37f2b45f7de0",
   "metadata": {},
   "outputs": [
    {
     "data": {
      "text/plain": [
       "True"
      ]
     },
     "execution_count": 3,
     "metadata": {},
     "output_type": "execute_result"
    }
   ],
   "source": [
    "torch.cuda.is_available()"
   ]
  },
  {
   "cell_type": "code",
   "execution_count": 4,
   "id": "3f3d576d-aca4-4580-8218-958e9d3037d0",
   "metadata": {},
   "outputs": [
    {
     "data": {
      "text/plain": [
       "torch.device"
      ]
     },
     "execution_count": 4,
     "metadata": {},
     "output_type": "execute_result"
    }
   ],
   "source": [
    "torch.device"
   ]
  },
  {
   "cell_type": "code",
   "execution_count": 5,
   "id": "87cc7c7b-bc4f-4c30-a647-995d9c294816",
   "metadata": {},
   "outputs": [],
   "source": [
    "device = torch.device(\"cuda\" if torch.cuda.is_available() else \"cpu\")"
   ]
  },
  {
   "cell_type": "code",
   "execution_count": 6,
   "id": "5095e46d-35c5-42bb-9469-4acb1db56ec5",
   "metadata": {},
   "outputs": [
    {
     "data": {
      "text/plain": [
       "device(type='cuda')"
      ]
     },
     "execution_count": 6,
     "metadata": {},
     "output_type": "execute_result"
    }
   ],
   "source": [
    "device"
   ]
  },
  {
   "cell_type": "code",
   "execution_count": 3,
   "id": "86f21ea7-95cf-4397-9bd6-33199374443e",
   "metadata": {},
   "outputs": [],
   "source": [
    "# Import the 'multiprocessing' module to work with multi-processing features.\n",
    "import multiprocessing\n",
    "\n",
    "# Use 'multiprocessing.cpu_count()' to determine the number of available CPU cores.\n",
    "cpu_count = multiprocessing.cpu_count()"
   ]
  },
  {
   "cell_type": "code",
   "execution_count": 4,
   "id": "0dff865b-5ab8-4c63-b157-115d6fb79cbc",
   "metadata": {},
   "outputs": [
    {
     "data": {
      "text/plain": [
       "8"
      ]
     },
     "execution_count": 4,
     "metadata": {},
     "output_type": "execute_result"
    }
   ],
   "source": [
    "cpu_count"
   ]
  },
  {
   "cell_type": "code",
   "execution_count": 6,
   "id": "f8321213-806a-4054-ad76-21f459530c20",
   "metadata": {},
   "outputs": [],
   "source": [
    "import torchvision"
   ]
  },
  {
   "cell_type": "code",
   "execution_count": 7,
   "id": "ba582d7c-68e4-4148-9fcd-b2b9fc7169e1",
   "metadata": {},
   "outputs": [
    {
     "data": {
      "text/plain": [
       "'0.16.2+cu118'"
      ]
     },
     "execution_count": 7,
     "metadata": {},
     "output_type": "execute_result"
    }
   ],
   "source": [
    "torchvision.__version__"
   ]
  },
  {
   "cell_type": "markdown",
   "id": "f332359c-3589-4ab8-a7c5-ecb0b90986ec",
   "metadata": {},
   "source": [
    "#### Load CIFAR10"
   ]
  },
  {
   "cell_type": "code",
   "execution_count": 25,
   "id": "bdc81e98-72c0-4ac0-bc83-7ec9c77753f3",
   "metadata": {},
   "outputs": [
    {
     "name": "stdout",
     "output_type": "stream",
     "text": [
      "Files already downloaded and verified\n",
      "Files already downloaded and verified\n"
     ]
    }
   ],
   "source": [
    "transform = transforms.Compose(\n",
    "    [transforms.ToTensor(),\n",
    "     transforms.Normalize((0.5, 0.5, 0.5), (0.5, 0.5, 0.5))])\n",
    "\n",
    "cifar_train= datasets.CIFAR10(root='./data', train=True, download=True, transform=transform)\n",
    "\n",
    "cifar_test = datasets.CIFAR10(root='./data', train=False, download=True, transform=transform)\n",
    "\n",
    "batch_size = 10\n",
    "\n",
    "trainloader = torch.utils.data.DataLoader(cifar_train, batch_size=batch_size,\n",
    "                                          shuffle=True, num_workers=4)\n",
    "\n",
    "testloader = torch.utils.data.DataLoader(cifar_test, batch_size=batch_size,\n",
    "                                         shuffle=False, num_workers=4)"
   ]
  },
  {
   "cell_type": "markdown",
   "id": "b99b6836-ba11-405e-9dca-60a538e2456b",
   "metadata": {},
   "source": [
    "#### Get Model"
   ]
  },
  {
   "cell_type": "code",
   "execution_count": 16,
   "id": "d37430b4-27f2-4240-8bb7-33ed00bbac3c",
   "metadata": {},
   "outputs": [
    {
     "data": {
      "text/plain": [
       "ResNet(\n",
       "  (conv1): Conv2d(3, 64, kernel_size=(7, 7), stride=(2, 2), padding=(3, 3), bias=False)\n",
       "  (bn1): BatchNorm2d(64, eps=1e-05, momentum=0.1, affine=True, track_running_stats=True)\n",
       "  (relu): ReLU(inplace=True)\n",
       "  (maxpool): MaxPool2d(kernel_size=3, stride=2, padding=1, dilation=1, ceil_mode=False)\n",
       "  (layer1): Sequential(\n",
       "    (0): Bottleneck(\n",
       "      (conv1): Conv2d(64, 64, kernel_size=(1, 1), stride=(1, 1), bias=False)\n",
       "      (bn1): BatchNorm2d(64, eps=1e-05, momentum=0.1, affine=True, track_running_stats=True)\n",
       "      (conv2): Conv2d(64, 64, kernel_size=(3, 3), stride=(1, 1), padding=(1, 1), bias=False)\n",
       "      (bn2): BatchNorm2d(64, eps=1e-05, momentum=0.1, affine=True, track_running_stats=True)\n",
       "      (conv3): Conv2d(64, 256, kernel_size=(1, 1), stride=(1, 1), bias=False)\n",
       "      (bn3): BatchNorm2d(256, eps=1e-05, momentum=0.1, affine=True, track_running_stats=True)\n",
       "      (relu): ReLU(inplace=True)\n",
       "      (downsample): Sequential(\n",
       "        (0): Conv2d(64, 256, kernel_size=(1, 1), stride=(1, 1), bias=False)\n",
       "        (1): BatchNorm2d(256, eps=1e-05, momentum=0.1, affine=True, track_running_stats=True)\n",
       "      )\n",
       "    )\n",
       "    (1): Bottleneck(\n",
       "      (conv1): Conv2d(256, 64, kernel_size=(1, 1), stride=(1, 1), bias=False)\n",
       "      (bn1): BatchNorm2d(64, eps=1e-05, momentum=0.1, affine=True, track_running_stats=True)\n",
       "      (conv2): Conv2d(64, 64, kernel_size=(3, 3), stride=(1, 1), padding=(1, 1), bias=False)\n",
       "      (bn2): BatchNorm2d(64, eps=1e-05, momentum=0.1, affine=True, track_running_stats=True)\n",
       "      (conv3): Conv2d(64, 256, kernel_size=(1, 1), stride=(1, 1), bias=False)\n",
       "      (bn3): BatchNorm2d(256, eps=1e-05, momentum=0.1, affine=True, track_running_stats=True)\n",
       "      (relu): ReLU(inplace=True)\n",
       "    )\n",
       "    (2): Bottleneck(\n",
       "      (conv1): Conv2d(256, 64, kernel_size=(1, 1), stride=(1, 1), bias=False)\n",
       "      (bn1): BatchNorm2d(64, eps=1e-05, momentum=0.1, affine=True, track_running_stats=True)\n",
       "      (conv2): Conv2d(64, 64, kernel_size=(3, 3), stride=(1, 1), padding=(1, 1), bias=False)\n",
       "      (bn2): BatchNorm2d(64, eps=1e-05, momentum=0.1, affine=True, track_running_stats=True)\n",
       "      (conv3): Conv2d(64, 256, kernel_size=(1, 1), stride=(1, 1), bias=False)\n",
       "      (bn3): BatchNorm2d(256, eps=1e-05, momentum=0.1, affine=True, track_running_stats=True)\n",
       "      (relu): ReLU(inplace=True)\n",
       "    )\n",
       "  )\n",
       "  (layer2): Sequential(\n",
       "    (0): Bottleneck(\n",
       "      (conv1): Conv2d(256, 128, kernel_size=(1, 1), stride=(1, 1), bias=False)\n",
       "      (bn1): BatchNorm2d(128, eps=1e-05, momentum=0.1, affine=True, track_running_stats=True)\n",
       "      (conv2): Conv2d(128, 128, kernel_size=(3, 3), stride=(2, 2), padding=(1, 1), bias=False)\n",
       "      (bn2): BatchNorm2d(128, eps=1e-05, momentum=0.1, affine=True, track_running_stats=True)\n",
       "      (conv3): Conv2d(128, 512, kernel_size=(1, 1), stride=(1, 1), bias=False)\n",
       "      (bn3): BatchNorm2d(512, eps=1e-05, momentum=0.1, affine=True, track_running_stats=True)\n",
       "      (relu): ReLU(inplace=True)\n",
       "      (downsample): Sequential(\n",
       "        (0): Conv2d(256, 512, kernel_size=(1, 1), stride=(2, 2), bias=False)\n",
       "        (1): BatchNorm2d(512, eps=1e-05, momentum=0.1, affine=True, track_running_stats=True)\n",
       "      )\n",
       "    )\n",
       "    (1): Bottleneck(\n",
       "      (conv1): Conv2d(512, 128, kernel_size=(1, 1), stride=(1, 1), bias=False)\n",
       "      (bn1): BatchNorm2d(128, eps=1e-05, momentum=0.1, affine=True, track_running_stats=True)\n",
       "      (conv2): Conv2d(128, 128, kernel_size=(3, 3), stride=(1, 1), padding=(1, 1), bias=False)\n",
       "      (bn2): BatchNorm2d(128, eps=1e-05, momentum=0.1, affine=True, track_running_stats=True)\n",
       "      (conv3): Conv2d(128, 512, kernel_size=(1, 1), stride=(1, 1), bias=False)\n",
       "      (bn3): BatchNorm2d(512, eps=1e-05, momentum=0.1, affine=True, track_running_stats=True)\n",
       "      (relu): ReLU(inplace=True)\n",
       "    )\n",
       "    (2): Bottleneck(\n",
       "      (conv1): Conv2d(512, 128, kernel_size=(1, 1), stride=(1, 1), bias=False)\n",
       "      (bn1): BatchNorm2d(128, eps=1e-05, momentum=0.1, affine=True, track_running_stats=True)\n",
       "      (conv2): Conv2d(128, 128, kernel_size=(3, 3), stride=(1, 1), padding=(1, 1), bias=False)\n",
       "      (bn2): BatchNorm2d(128, eps=1e-05, momentum=0.1, affine=True, track_running_stats=True)\n",
       "      (conv3): Conv2d(128, 512, kernel_size=(1, 1), stride=(1, 1), bias=False)\n",
       "      (bn3): BatchNorm2d(512, eps=1e-05, momentum=0.1, affine=True, track_running_stats=True)\n",
       "      (relu): ReLU(inplace=True)\n",
       "    )\n",
       "    (3): Bottleneck(\n",
       "      (conv1): Conv2d(512, 128, kernel_size=(1, 1), stride=(1, 1), bias=False)\n",
       "      (bn1): BatchNorm2d(128, eps=1e-05, momentum=0.1, affine=True, track_running_stats=True)\n",
       "      (conv2): Conv2d(128, 128, kernel_size=(3, 3), stride=(1, 1), padding=(1, 1), bias=False)\n",
       "      (bn2): BatchNorm2d(128, eps=1e-05, momentum=0.1, affine=True, track_running_stats=True)\n",
       "      (conv3): Conv2d(128, 512, kernel_size=(1, 1), stride=(1, 1), bias=False)\n",
       "      (bn3): BatchNorm2d(512, eps=1e-05, momentum=0.1, affine=True, track_running_stats=True)\n",
       "      (relu): ReLU(inplace=True)\n",
       "    )\n",
       "  )\n",
       "  (layer3): Sequential(\n",
       "    (0): Bottleneck(\n",
       "      (conv1): Conv2d(512, 256, kernel_size=(1, 1), stride=(1, 1), bias=False)\n",
       "      (bn1): BatchNorm2d(256, eps=1e-05, momentum=0.1, affine=True, track_running_stats=True)\n",
       "      (conv2): Conv2d(256, 256, kernel_size=(3, 3), stride=(2, 2), padding=(1, 1), bias=False)\n",
       "      (bn2): BatchNorm2d(256, eps=1e-05, momentum=0.1, affine=True, track_running_stats=True)\n",
       "      (conv3): Conv2d(256, 1024, kernel_size=(1, 1), stride=(1, 1), bias=False)\n",
       "      (bn3): BatchNorm2d(1024, eps=1e-05, momentum=0.1, affine=True, track_running_stats=True)\n",
       "      (relu): ReLU(inplace=True)\n",
       "      (downsample): Sequential(\n",
       "        (0): Conv2d(512, 1024, kernel_size=(1, 1), stride=(2, 2), bias=False)\n",
       "        (1): BatchNorm2d(1024, eps=1e-05, momentum=0.1, affine=True, track_running_stats=True)\n",
       "      )\n",
       "    )\n",
       "    (1): Bottleneck(\n",
       "      (conv1): Conv2d(1024, 256, kernel_size=(1, 1), stride=(1, 1), bias=False)\n",
       "      (bn1): BatchNorm2d(256, eps=1e-05, momentum=0.1, affine=True, track_running_stats=True)\n",
       "      (conv2): Conv2d(256, 256, kernel_size=(3, 3), stride=(1, 1), padding=(1, 1), bias=False)\n",
       "      (bn2): BatchNorm2d(256, eps=1e-05, momentum=0.1, affine=True, track_running_stats=True)\n",
       "      (conv3): Conv2d(256, 1024, kernel_size=(1, 1), stride=(1, 1), bias=False)\n",
       "      (bn3): BatchNorm2d(1024, eps=1e-05, momentum=0.1, affine=True, track_running_stats=True)\n",
       "      (relu): ReLU(inplace=True)\n",
       "    )\n",
       "    (2): Bottleneck(\n",
       "      (conv1): Conv2d(1024, 256, kernel_size=(1, 1), stride=(1, 1), bias=False)\n",
       "      (bn1): BatchNorm2d(256, eps=1e-05, momentum=0.1, affine=True, track_running_stats=True)\n",
       "      (conv2): Conv2d(256, 256, kernel_size=(3, 3), stride=(1, 1), padding=(1, 1), bias=False)\n",
       "      (bn2): BatchNorm2d(256, eps=1e-05, momentum=0.1, affine=True, track_running_stats=True)\n",
       "      (conv3): Conv2d(256, 1024, kernel_size=(1, 1), stride=(1, 1), bias=False)\n",
       "      (bn3): BatchNorm2d(1024, eps=1e-05, momentum=0.1, affine=True, track_running_stats=True)\n",
       "      (relu): ReLU(inplace=True)\n",
       "    )\n",
       "    (3): Bottleneck(\n",
       "      (conv1): Conv2d(1024, 256, kernel_size=(1, 1), stride=(1, 1), bias=False)\n",
       "      (bn1): BatchNorm2d(256, eps=1e-05, momentum=0.1, affine=True, track_running_stats=True)\n",
       "      (conv2): Conv2d(256, 256, kernel_size=(3, 3), stride=(1, 1), padding=(1, 1), bias=False)\n",
       "      (bn2): BatchNorm2d(256, eps=1e-05, momentum=0.1, affine=True, track_running_stats=True)\n",
       "      (conv3): Conv2d(256, 1024, kernel_size=(1, 1), stride=(1, 1), bias=False)\n",
       "      (bn3): BatchNorm2d(1024, eps=1e-05, momentum=0.1, affine=True, track_running_stats=True)\n",
       "      (relu): ReLU(inplace=True)\n",
       "    )\n",
       "    (4): Bottleneck(\n",
       "      (conv1): Conv2d(1024, 256, kernel_size=(1, 1), stride=(1, 1), bias=False)\n",
       "      (bn1): BatchNorm2d(256, eps=1e-05, momentum=0.1, affine=True, track_running_stats=True)\n",
       "      (conv2): Conv2d(256, 256, kernel_size=(3, 3), stride=(1, 1), padding=(1, 1), bias=False)\n",
       "      (bn2): BatchNorm2d(256, eps=1e-05, momentum=0.1, affine=True, track_running_stats=True)\n",
       "      (conv3): Conv2d(256, 1024, kernel_size=(1, 1), stride=(1, 1), bias=False)\n",
       "      (bn3): BatchNorm2d(1024, eps=1e-05, momentum=0.1, affine=True, track_running_stats=True)\n",
       "      (relu): ReLU(inplace=True)\n",
       "    )\n",
       "    (5): Bottleneck(\n",
       "      (conv1): Conv2d(1024, 256, kernel_size=(1, 1), stride=(1, 1), bias=False)\n",
       "      (bn1): BatchNorm2d(256, eps=1e-05, momentum=0.1, affine=True, track_running_stats=True)\n",
       "      (conv2): Conv2d(256, 256, kernel_size=(3, 3), stride=(1, 1), padding=(1, 1), bias=False)\n",
       "      (bn2): BatchNorm2d(256, eps=1e-05, momentum=0.1, affine=True, track_running_stats=True)\n",
       "      (conv3): Conv2d(256, 1024, kernel_size=(1, 1), stride=(1, 1), bias=False)\n",
       "      (bn3): BatchNorm2d(1024, eps=1e-05, momentum=0.1, affine=True, track_running_stats=True)\n",
       "      (relu): ReLU(inplace=True)\n",
       "    )\n",
       "  )\n",
       "  (layer4): Sequential(\n",
       "    (0): Bottleneck(\n",
       "      (conv1): Conv2d(1024, 512, kernel_size=(1, 1), stride=(1, 1), bias=False)\n",
       "      (bn1): BatchNorm2d(512, eps=1e-05, momentum=0.1, affine=True, track_running_stats=True)\n",
       "      (conv2): Conv2d(512, 512, kernel_size=(3, 3), stride=(2, 2), padding=(1, 1), bias=False)\n",
       "      (bn2): BatchNorm2d(512, eps=1e-05, momentum=0.1, affine=True, track_running_stats=True)\n",
       "      (conv3): Conv2d(512, 2048, kernel_size=(1, 1), stride=(1, 1), bias=False)\n",
       "      (bn3): BatchNorm2d(2048, eps=1e-05, momentum=0.1, affine=True, track_running_stats=True)\n",
       "      (relu): ReLU(inplace=True)\n",
       "      (downsample): Sequential(\n",
       "        (0): Conv2d(1024, 2048, kernel_size=(1, 1), stride=(2, 2), bias=False)\n",
       "        (1): BatchNorm2d(2048, eps=1e-05, momentum=0.1, affine=True, track_running_stats=True)\n",
       "      )\n",
       "    )\n",
       "    (1): Bottleneck(\n",
       "      (conv1): Conv2d(2048, 512, kernel_size=(1, 1), stride=(1, 1), bias=False)\n",
       "      (bn1): BatchNorm2d(512, eps=1e-05, momentum=0.1, affine=True, track_running_stats=True)\n",
       "      (conv2): Conv2d(512, 512, kernel_size=(3, 3), stride=(1, 1), padding=(1, 1), bias=False)\n",
       "      (bn2): BatchNorm2d(512, eps=1e-05, momentum=0.1, affine=True, track_running_stats=True)\n",
       "      (conv3): Conv2d(512, 2048, kernel_size=(1, 1), stride=(1, 1), bias=False)\n",
       "      (bn3): BatchNorm2d(2048, eps=1e-05, momentum=0.1, affine=True, track_running_stats=True)\n",
       "      (relu): ReLU(inplace=True)\n",
       "    )\n",
       "    (2): Bottleneck(\n",
       "      (conv1): Conv2d(2048, 512, kernel_size=(1, 1), stride=(1, 1), bias=False)\n",
       "      (bn1): BatchNorm2d(512, eps=1e-05, momentum=0.1, affine=True, track_running_stats=True)\n",
       "      (conv2): Conv2d(512, 512, kernel_size=(3, 3), stride=(1, 1), padding=(1, 1), bias=False)\n",
       "      (bn2): BatchNorm2d(512, eps=1e-05, momentum=0.1, affine=True, track_running_stats=True)\n",
       "      (conv3): Conv2d(512, 2048, kernel_size=(1, 1), stride=(1, 1), bias=False)\n",
       "      (bn3): BatchNorm2d(2048, eps=1e-05, momentum=0.1, affine=True, track_running_stats=True)\n",
       "      (relu): ReLU(inplace=True)\n",
       "    )\n",
       "  )\n",
       "  (avgpool): AdaptiveAvgPool2d(output_size=(1, 1))\n",
       "  (fc): Linear(in_features=2048, out_features=1000, bias=True)\n",
       ")"
      ]
     },
     "execution_count": 16,
     "metadata": {},
     "output_type": "execute_result"
    }
   ],
   "source": [
    "from torchvision.models import resnet50, ResNet50_Weights, resnet18\n",
    "\n",
    "# Old weights with accuracy 76.130%\n",
    "#resnet50(weights=ResNet50_Weights.IMAGENET1K_V1)\n",
    "\n",
    "# New weights with accuracy 80.858%\n",
    "#resnet50(weights=ResNet50_Weights.IMAGENET1K_V2)\n",
    "\n",
    "# Best available weights (currently alias for IMAGENET1K_V2)\n",
    "# Note that these weights may change across versions\n",
    "resnet50(weights=ResNet50_Weights.DEFAULT)\n",
    "resnet18(weights = ResNet\n",
    "\n",
    "# Strings are also supported\n",
    "#resnet50(weights=\"IMAGENET1K_V2\")\n",
    "\n",
    "# No weights - random initialization\n",
    "#resnet50(weights=None)"
   ]
  },
  {
   "cell_type": "code",
   "execution_count": 17,
   "id": "e0a3f6cc-3bd5-4b0e-bfbb-9e85ea638261",
   "metadata": {},
   "outputs": [],
   "source": [
    "device = torch.device(\"cuda\")"
   ]
  },
  {
   "cell_type": "code",
   "execution_count": 18,
   "id": "4183787d-6e4f-4186-b5dc-cfe33a1044ea",
   "metadata": {},
   "outputs": [],
   "source": [
    "model = resnet50()"
   ]
  },
  {
   "cell_type": "code",
   "execution_count": 1,
   "id": "292f3a3a-6d90-47ea-b4fc-7ae3a1f13c63",
   "metadata": {},
   "outputs": [],
   "source": [
    "h : int = 1"
   ]
  },
  {
   "cell_type": "code",
   "execution_count": 2,
   "id": "4ff01193-f856-4207-a609-ca31229970bc",
   "metadata": {},
   "outputs": [
    {
     "data": {
      "text/plain": [
       "1"
      ]
     },
     "execution_count": 2,
     "metadata": {},
     "output_type": "execute_result"
    }
   ],
   "source": [
    "h"
   ]
  },
  {
   "cell_type": "markdown",
   "id": "ce4b758a-6ef5-4905-b5f1-4f5b01fcf05f",
   "metadata": {},
   "source": [
    "#### Get Optimizer"
   ]
  },
  {
   "cell_type": "code",
   "execution_count": 19,
   "id": "4e046b1a-377b-422c-a7c4-93fb491a0fe3",
   "metadata": {},
   "outputs": [],
   "source": [
    "import torch.optim as optim\n",
    "from torch import nn\n",
    "\n",
    "criterion = nn.CrossEntropyLoss()\n",
    "optimizer = optim.SGD(model.parameters(), lr=0.001, momentum=0.9)"
   ]
  },
  {
   "cell_type": "markdown",
   "id": "44de0f70-7d8c-4ce8-b148-cca5b45a5efb",
   "metadata": {},
   "source": [
    "### Train"
   ]
  },
  {
   "cell_type": "code",
   "execution_count": 26,
   "id": "593bc062-58e0-4be5-9c61-1a29d996836f",
   "metadata": {
    "scrolled": true
   },
   "outputs": [
    {
     "name": "stdout",
     "output_type": "stream",
     "text": [
      "[1,  2000] loss: 2.775\n",
      "[1,  4000] loss: 2.326\n"
     ]
    },
    {
     "name": "stderr",
     "output_type": "stream",
     "text": [
      "Exception ignored in: <function _MultiProcessingDataLoaderIter.__del__ at 0x000001BA47721A80>\n",
      "Traceback (most recent call last):\n",
      "  File \"C:\\Users\\akash\\miniconda3\\envs\\ships\\Lib\\site-packages\\torch\\utils\\data\\dataloader.py\", line 1478, in __del__\n",
      "    self._shutdown_workers()\n",
      "  File \"C:\\Users\\akash\\miniconda3\\envs\\ships\\Lib\\site-packages\\torch\\utils\\data\\dataloader.py\", line 1442, in _shutdown_workers\n",
      "    w.join(timeout=_utils.MP_STATUS_CHECK_INTERVAL)\n",
      "  File \"C:\\Users\\akash\\miniconda3\\envs\\ships\\Lib\\multiprocessing\\process.py\", line 149, in join\n",
      "    res = self._popen.wait(timeout)\n",
      "          ^^^^^^^^^^^^^^^^^^^^^^^^^\n",
      "  File \"C:\\Users\\akash\\miniconda3\\envs\\ships\\Lib\\multiprocessing\\popen_spawn_win32.py\", line 109, in wait\n",
      "    res = _winapi.WaitForSingleObject(int(self._handle), msecs)\n",
      "          ^^^^^^^^^^^^^^^^^^^^^^^^^^^^^^^^^^^^^^^^^^^^^^^^^^^^^\n",
      "KeyboardInterrupt: \n",
      "Exception ignored in: <function _MultiProcessingDataLoaderIter.__del__ at 0x000001BA47721A80>\n",
      "Traceback (most recent call last):\n",
      "  File \"C:\\Users\\akash\\miniconda3\\envs\\ships\\Lib\\site-packages\\torch\\utils\\data\\dataloader.py\", line 1478, in __del__\n",
      "    self._shutdown_workers()\n",
      "  File \"C:\\Users\\akash\\miniconda3\\envs\\ships\\Lib\\site-packages\\torch\\utils\\data\\dataloader.py\", line 1436, in _shutdown_workers\n",
      "    if self._persistent_workers or self._workers_status[worker_id]:\n",
      "                                   ^^^^^^^^^^^^^^^^^^^^\n",
      "AttributeError: '_MultiProcessingDataLoaderIter' object has no attribute '_workers_status'\n"
     ]
    },
    {
     "ename": "KeyboardInterrupt",
     "evalue": "",
     "output_type": "error",
     "traceback": [
      "\u001b[1;31m---------------------------------------------------------------------------\u001b[0m",
      "\u001b[1;31mKeyboardInterrupt\u001b[0m                         Traceback (most recent call last)",
      "Cell \u001b[1;32mIn[26], line 19\u001b[0m\n\u001b[0;32m     17\u001b[0m outputs \u001b[38;5;241m=\u001b[39m model(inputs)\n\u001b[0;32m     18\u001b[0m loss \u001b[38;5;241m=\u001b[39m criterion(outputs, labels)\n\u001b[1;32m---> 19\u001b[0m loss\u001b[38;5;241m.\u001b[39mbackward()\n\u001b[0;32m     20\u001b[0m optimizer\u001b[38;5;241m.\u001b[39mstep()\n\u001b[0;32m     22\u001b[0m \u001b[38;5;66;03m# print statistics\u001b[39;00m\n\u001b[0;32m     23\u001b[0m \u001b[38;5;66;03m#print(data.shape)\u001b[39;00m\n",
      "File \u001b[1;32m~\\miniconda3\\envs\\ships\\Lib\\site-packages\\torch\\_tensor.py:492\u001b[0m, in \u001b[0;36mTensor.backward\u001b[1;34m(self, gradient, retain_graph, create_graph, inputs)\u001b[0m\n\u001b[0;32m    482\u001b[0m \u001b[38;5;28;01mif\u001b[39;00m has_torch_function_unary(\u001b[38;5;28mself\u001b[39m):\n\u001b[0;32m    483\u001b[0m     \u001b[38;5;28;01mreturn\u001b[39;00m handle_torch_function(\n\u001b[0;32m    484\u001b[0m         Tensor\u001b[38;5;241m.\u001b[39mbackward,\n\u001b[0;32m    485\u001b[0m         (\u001b[38;5;28mself\u001b[39m,),\n\u001b[1;32m   (...)\u001b[0m\n\u001b[0;32m    490\u001b[0m         inputs\u001b[38;5;241m=\u001b[39minputs,\n\u001b[0;32m    491\u001b[0m     )\n\u001b[1;32m--> 492\u001b[0m torch\u001b[38;5;241m.\u001b[39mautograd\u001b[38;5;241m.\u001b[39mbackward(\n\u001b[0;32m    493\u001b[0m     \u001b[38;5;28mself\u001b[39m, gradient, retain_graph, create_graph, inputs\u001b[38;5;241m=\u001b[39minputs\n\u001b[0;32m    494\u001b[0m )\n",
      "File \u001b[1;32m~\\miniconda3\\envs\\ships\\Lib\\site-packages\\torch\\autograd\\__init__.py:251\u001b[0m, in \u001b[0;36mbackward\u001b[1;34m(tensors, grad_tensors, retain_graph, create_graph, grad_variables, inputs)\u001b[0m\n\u001b[0;32m    246\u001b[0m     retain_graph \u001b[38;5;241m=\u001b[39m create_graph\n\u001b[0;32m    248\u001b[0m \u001b[38;5;66;03m# The reason we repeat the same comment below is that\u001b[39;00m\n\u001b[0;32m    249\u001b[0m \u001b[38;5;66;03m# some Python versions print out the first line of a multi-line function\u001b[39;00m\n\u001b[0;32m    250\u001b[0m \u001b[38;5;66;03m# calls in the traceback and some print out the last line\u001b[39;00m\n\u001b[1;32m--> 251\u001b[0m Variable\u001b[38;5;241m.\u001b[39m_execution_engine\u001b[38;5;241m.\u001b[39mrun_backward(  \u001b[38;5;66;03m# Calls into the C++ engine to run the backward pass\u001b[39;00m\n\u001b[0;32m    252\u001b[0m     tensors,\n\u001b[0;32m    253\u001b[0m     grad_tensors_,\n\u001b[0;32m    254\u001b[0m     retain_graph,\n\u001b[0;32m    255\u001b[0m     create_graph,\n\u001b[0;32m    256\u001b[0m     inputs,\n\u001b[0;32m    257\u001b[0m     allow_unreachable\u001b[38;5;241m=\u001b[39m\u001b[38;5;28;01mTrue\u001b[39;00m,\n\u001b[0;32m    258\u001b[0m     accumulate_grad\u001b[38;5;241m=\u001b[39m\u001b[38;5;28;01mTrue\u001b[39;00m,\n\u001b[0;32m    259\u001b[0m )\n",
      "\u001b[1;31mKeyboardInterrupt\u001b[0m: "
     ]
    }
   ],
   "source": [
    "for epoch in range(2):  # loop over the dataset multiple times\n",
    "\n",
    "    running_loss = 0.0\n",
    "    \n",
    "    for i, data in enumerate(trainloader, 0):\n",
    "        \n",
    "        # get the inputs; data is a list of [inputs, labels]\n",
    "        \n",
    "        inputs, labels = data\n",
    "        \n",
    "        # zero the parameter gradients\n",
    "        \n",
    "        optimizer.zero_grad()\n",
    "\n",
    "        # forward + backward + optimize\n",
    "        \n",
    "        outputs = model(inputs)\n",
    "        loss = criterion(outputs, labels)\n",
    "        loss.backward()\n",
    "        optimizer.step()\n",
    "        \n",
    "        # print statistics\n",
    "        #print(data.shape)\n",
    "        running_loss += loss.item()\n",
    "        #if i % 2000 == 1999:    # print every 2000 mini-batches\n",
    "        #    print(f'[{epoch + 1}, {i + 1:5d}] loss: {running_loss / 2000:.3f}')\n",
    "        #    running_loss = 0.0\n",
    "\n",
    "print('Finished Training')"
   ]
  },
  {
   "cell_type": "code",
   "execution_count": 35,
   "id": "432e4437-a343-4b2a-bb85-35fce3b8722a",
   "metadata": {},
   "outputs": [],
   "source": [
    "import os \n",
    "os.environ[\"CUDA_VISIBLE_DEVICES\"]=\"0\""
   ]
  },
  {
   "cell_type": "code",
   "execution_count": 36,
   "id": "73c98bf1-4a71-4f0c-a72b-be5b5886fd81",
   "metadata": {},
   "outputs": [
    {
     "data": {
      "text/plain": [
       "device(type='cuda')"
      ]
     },
     "execution_count": 36,
     "metadata": {},
     "output_type": "execute_result"
    }
   ],
   "source": [
    "device"
   ]
  },
  {
   "cell_type": "code",
   "execution_count": 21,
   "id": "108be1c9-2039-4799-a5e7-40474b7b0b68",
   "metadata": {},
   "outputs": [
    {
     "data": {
      "text/plain": [
       "10000"
      ]
     },
     "execution_count": 21,
     "metadata": {},
     "output_type": "execute_result"
    }
   ],
   "source": [
    "len(trainloader)"
   ]
  },
  {
   "cell_type": "code",
   "execution_count": 24,
   "id": "c6df8246-544d-413c-bc84-02d6b08ec89a",
   "metadata": {},
   "outputs": [
    {
     "data": {
      "text/plain": [
       "[tensor([[[[-0.0745,  0.1294,  0.2863,  ...,  0.5059,  0.4824,  0.5137],\n",
       "           [-0.4431, -0.0745,  0.1059,  ...,  0.3333,  0.3412,  0.3255],\n",
       "           [-0.3020, -0.0667, -0.0196,  ...,  0.1686,  0.1529,  0.1608],\n",
       "           ...,\n",
       "           [-0.1686, -0.2235, -0.2549,  ..., -0.3333, -0.3412, -0.3647],\n",
       "           [-0.3882, -0.3961, -0.3804,  ..., -0.3098, -0.3176, -0.3412],\n",
       "           [-0.3725, -0.3804, -0.3725,  ..., -0.3725, -0.3804, -0.3882]],\n",
       " \n",
       "          [[-0.0118,  0.1922,  0.3569,  ...,  0.5686,  0.5451,  0.5686],\n",
       "           [-0.3882, -0.0196,  0.1608,  ...,  0.3961,  0.4039,  0.3804],\n",
       "           [-0.2471, -0.0039,  0.0353,  ...,  0.2314,  0.2235,  0.2235],\n",
       "           ...,\n",
       "           [-0.1922, -0.2392, -0.2706,  ..., -0.2784, -0.2941, -0.3176],\n",
       "           [-0.3412, -0.3490, -0.3333,  ..., -0.2706, -0.2784, -0.3020],\n",
       "           [-0.3333, -0.3412, -0.3412,  ..., -0.3647, -0.3725, -0.3647]],\n",
       " \n",
       "          [[ 0.0745,  0.2784,  0.4353,  ...,  0.6627,  0.6392,  0.6706],\n",
       "           [-0.2706,  0.0980,  0.2784,  ...,  0.4824,  0.4902,  0.4745],\n",
       "           [-0.1059,  0.1294,  0.1686,  ...,  0.3098,  0.2941,  0.3020],\n",
       "           ...,\n",
       "           [-0.3804, -0.4275, -0.4588,  ..., -0.6784, -0.6941, -0.6863],\n",
       "           [-0.6471, -0.6549, -0.6392,  ..., -0.6314, -0.6392, -0.6549],\n",
       "           [-0.7098, -0.7098, -0.7098,  ..., -0.6549, -0.6706, -0.6941]]],\n",
       " \n",
       " \n",
       "         [[[-0.8588, -0.8353, -0.8745,  ..., -0.8745, -0.9059, -0.8902],\n",
       "           [-0.9137, -0.9216, -0.9216,  ..., -0.8667, -0.8824, -0.8510],\n",
       "           [-0.9294, -0.9216, -0.9216,  ..., -0.9294, -0.9294, -0.8667],\n",
       "           ...,\n",
       "           [-0.0588, -0.2471, -0.1529,  ..., -0.1059, -0.1059, -0.0902],\n",
       "           [-0.2235, -0.3647, -0.2471,  ..., -0.1529, -0.1765, -0.3804],\n",
       "           [-0.1451, -0.2549, -0.3882,  ..., -0.2000, -0.2941, -0.5294]],\n",
       " \n",
       "          [[-0.7333, -0.7098, -0.7804,  ..., -0.7882, -0.8196, -0.7882],\n",
       "           [-0.8353, -0.8510, -0.8667,  ..., -0.7961, -0.8039, -0.7490],\n",
       "           [-0.8667, -0.8667, -0.8510,  ..., -0.8745, -0.8745, -0.7961],\n",
       "           ...,\n",
       "           [ 0.0275, -0.1216, -0.0510,  ...,  0.0275,  0.0118,  0.0510],\n",
       "           [-0.1451, -0.2549, -0.1686,  ..., -0.0118, -0.0667, -0.2314],\n",
       "           [-0.0667, -0.1451, -0.2706,  ..., -0.0588, -0.1451, -0.4196]],\n",
       " \n",
       "          [[-0.7333, -0.7098, -0.7725,  ..., -0.8039, -0.8353, -0.8039],\n",
       "           [-0.8353, -0.8431, -0.8588,  ..., -0.8039, -0.8039, -0.7569],\n",
       "           [-0.8588, -0.8510, -0.8510,  ..., -0.8745, -0.8824, -0.8039],\n",
       "           ...,\n",
       "           [-0.0039, -0.1529, -0.0824,  ..., -0.0039, -0.0745, -0.0431],\n",
       "           [-0.2000, -0.3255, -0.2235,  ..., -0.0902, -0.2078, -0.3490],\n",
       "           [-0.1059, -0.2078, -0.3490,  ..., -0.1765, -0.2784, -0.5373]]],\n",
       " \n",
       " \n",
       "         [[[-0.6941, -0.6549, -0.5843,  ..., -0.6941, -0.7020, -0.7176],\n",
       "           [-0.6078, -0.6157, -0.6157,  ..., -0.7490, -0.7725, -0.7804],\n",
       "           [-0.6078, -0.5843, -0.6157,  ..., -0.8275, -0.8196, -0.8196],\n",
       "           ...,\n",
       "           [-0.2000, -0.2392, -0.2471,  ..., -0.4510, -0.4431, -0.4196],\n",
       "           [-0.2941, -0.2941, -0.2706,  ..., -0.3176, -0.3176, -0.3412],\n",
       "           [-0.1137, -0.1294, -0.0980,  ..., -0.2549, -0.2784, -0.2784]],\n",
       " \n",
       "          [[-0.4824, -0.4588, -0.3961,  ..., -0.5765, -0.5765, -0.5922],\n",
       "           [-0.4275, -0.4196, -0.4118,  ..., -0.6392, -0.6627, -0.6706],\n",
       "           [-0.4902, -0.4275, -0.4353,  ..., -0.7490, -0.7412, -0.7569],\n",
       "           ...,\n",
       "           [-0.2000, -0.2627, -0.2941,  ..., -0.4667, -0.4588, -0.4275],\n",
       "           [-0.3098, -0.3333, -0.3176,  ..., -0.3333, -0.3412, -0.3569],\n",
       "           [-0.1529, -0.1843, -0.1686,  ..., -0.2863, -0.3098, -0.3333]],\n",
       " \n",
       "          [[-0.1608, -0.1373, -0.0510,  ..., -0.2549, -0.2627, -0.3020],\n",
       "           [-0.1922, -0.1922, -0.1373,  ..., -0.4275, -0.4588, -0.4667],\n",
       "           [-0.4039, -0.3020, -0.1686,  ..., -0.6078, -0.6000, -0.5686],\n",
       "           ...,\n",
       "           [-0.1843, -0.2314, -0.2000,  ..., -0.3804, -0.3725, -0.3412],\n",
       "           [-0.2392, -0.2235, -0.2157,  ..., -0.2235, -0.2314, -0.2941],\n",
       "           [-0.0824, -0.0902, -0.1059,  ..., -0.3176, -0.3490, -0.3647]]],\n",
       " \n",
       " \n",
       "         [[[-0.4510, -0.4510, -0.4196,  ..., -0.1373, -0.6314, -0.3412],\n",
       "           [-0.7255, -0.6392, -0.6941,  ..., -0.4353, -0.6157, -0.4902],\n",
       "           [-0.7098, -0.6784, -0.7255,  ..., -0.5765, -0.6157, -0.6549],\n",
       "           ...,\n",
       "           [-0.1451, -0.2549, -0.2157,  ..., -0.2627, -0.2627, -0.2863],\n",
       "           [-0.1608, -0.2314, -0.2078,  ..., -0.3020, -0.2941, -0.3098],\n",
       "           [-0.1843, -0.2157, -0.1922,  ..., -0.2941, -0.3255, -0.3569]],\n",
       " \n",
       "          [[-0.3725, -0.3961, -0.3647,  ..., -0.0824, -0.5294, -0.2941],\n",
       "           [-0.6314, -0.5843, -0.6392,  ..., -0.3882, -0.5294, -0.3961],\n",
       "           [-0.6392, -0.6078, -0.6392,  ..., -0.5059, -0.5294, -0.5529],\n",
       "           ...,\n",
       "           [-0.1059, -0.2235, -0.1922,  ..., -0.2392, -0.2471, -0.2784],\n",
       "           [-0.1216, -0.2000, -0.1843,  ..., -0.2863, -0.2863, -0.3020],\n",
       "           [-0.1608, -0.1922, -0.1686,  ..., -0.2863, -0.3255, -0.3569]],\n",
       " \n",
       "          [[-0.7098, -0.6941, -0.6863,  ..., -0.2078, -0.8196, -0.6549],\n",
       "           [-0.8510, -0.7647, -0.8431,  ..., -0.5529, -0.7961, -0.6706],\n",
       "           [-0.8118, -0.7569, -0.8196,  ..., -0.6392, -0.7333, -0.8039],\n",
       "           ...,\n",
       "           [-0.0510, -0.1765, -0.1373,  ..., -0.2000, -0.2078, -0.2392],\n",
       "           [-0.0510, -0.1373, -0.1137,  ..., -0.2549, -0.2471, -0.2706],\n",
       "           [-0.0667, -0.1294, -0.1294,  ..., -0.2392, -0.2863, -0.3255]]],\n",
       " \n",
       " \n",
       "         [[[ 0.7333, -0.2392, -0.6627,  ..., -0.7333, -0.5137,  0.2157],\n",
       "           [-0.0745, -0.7961, -0.6706,  ..., -0.8039, -0.7412, -0.5922],\n",
       "           [-0.5294, -0.6078, -0.5608,  ..., -0.7020, -0.7020, -0.5451],\n",
       "           ...,\n",
       "           [-0.4667, -0.4667, -0.4588,  ..., -0.2235, -0.1765, -0.1608],\n",
       "           [-0.2863, -0.4353, -0.3725,  ..., -0.2784, -0.2627, -0.3490],\n",
       "           [ 0.3098, -0.4431, -0.4275,  ..., -0.2706, -0.3176, -0.0745]],\n",
       " \n",
       "          [[ 0.7176, -0.2706, -0.7098,  ..., -0.6784, -0.5922,  0.2000],\n",
       "           [-0.1059, -0.8431, -0.7333,  ..., -0.3412, -0.4353, -0.6000],\n",
       "           [-0.5686, -0.6706, -0.6392,  ..., -0.1529,  0.1843, -0.4902],\n",
       "           ...,\n",
       "           [-0.6078, -0.6314, -0.6000,  ..., -0.5059, -0.4824, -0.4588],\n",
       "           [-0.4196, -0.6235, -0.5608,  ..., -0.5686, -0.5608, -0.6000],\n",
       "           [ 0.2235, -0.6235, -0.6392,  ..., -0.5373, -0.5686, -0.2471]],\n",
       " \n",
       "          [[ 0.7020, -0.3255, -0.8039,  ..., -0.7961, -0.6784,  0.1922],\n",
       "           [-0.1373, -0.9059, -0.8196,  ..., -0.7020, -0.8588, -0.7804],\n",
       "           [-0.6314, -0.7412, -0.7098,  ..., -0.6863, -0.6157, -0.8667],\n",
       "           ...,\n",
       "           [-0.7412, -0.7804, -0.7255,  ..., -0.7020, -0.7020, -0.6706],\n",
       "           [-0.5216, -0.7725, -0.7098,  ..., -0.7804, -0.7647, -0.7725],\n",
       "           [ 0.1765, -0.7412, -0.7882,  ..., -0.7255, -0.7412, -0.3647]]]]),\n",
       " tensor([0, 4, 0, 1, 6])]"
      ]
     },
     "execution_count": 24,
     "metadata": {},
     "output_type": "execute_result"
    }
   ],
   "source": [
    "data"
   ]
  },
  {
   "cell_type": "code",
   "execution_count": null,
   "id": "9a4db142-046f-45be-9635-838cd92be80e",
   "metadata": {},
   "outputs": [],
   "source": []
  }
 ],
 "metadata": {
  "kernelspec": {
   "display_name": "ships",
   "language": "python",
   "name": "ships"
  },
  "language_info": {
   "codemirror_mode": {
    "name": "ipython",
    "version": 3
   },
   "file_extension": ".py",
   "mimetype": "text/x-python",
   "name": "python",
   "nbconvert_exporter": "python",
   "pygments_lexer": "ipython3",
   "version": "3.11.5"
  }
 },
 "nbformat": 4,
 "nbformat_minor": 5
}
