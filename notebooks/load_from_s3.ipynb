{
 "cells": [
  {
   "cell_type": "code",
   "execution_count": 16,
   "id": "22a0db6a-9c32-4ac8-bfe5-ee641616ff6c",
   "metadata": {},
   "outputs": [],
   "source": [
    "import boto3\n",
    "import s3fs\n",
    "import pandas as pd\n",
    "\n",
    "client = boto3.client('s3', aws_access_key_id=, aws_secret_access_key=)\n",
    "\n",
    "objects = client.list_objects_v2(Bucket='akash-images-bucket')\n",
    "\n",
    "names = [i['Key'] for i in objects['Contents']]\n",
    "\n",
    "files = [client.get_object(Bucket='akash-images-bucket', Key = i) for i in names]\n",
    "\n",
    "data = files[0]['Body'].read()"
   ]
  },
  {
   "cell_type": "code",
   "execution_count": 12,
   "id": "f1e09212-e92e-42c9-9b51-d2cef41395a3",
   "metadata": {},
   "outputs": [
    {
     "name": "stdout",
     "output_type": "stream",
     "text": [
      "cifar-10-batches-py/batches.meta\n",
      "cifar-10-batches-py/data_batch_1\n",
      "cifar-10-batches-py/data_batch_2\n",
      "cifar-10-batches-py/data_batch_3\n",
      "cifar-10-batches-py/data_batch_4\n",
      "cifar-10-batches-py/data_batch_5\n",
      "cifar-10-batches-py/readme.html\n",
      "cifar-10-batches-py/test_batch\n"
     ]
    }
   ],
   "source": [
    "session = boto3.Session(aws_access_key_id='', aws_secret_access_key='')\n",
    "\n",
    "s3 = session.resource('s3')\n",
    "\n",
    "my_bucket = s3.Bucket('akash-images-bucket')\n",
    "\n",
    "for my_bucket_object in my_bucket.objects.all():\n",
    "    print(my_bucket_object.key)"
   ]
  }
 ],
 "metadata": {
  "kernelspec": {
   "display_name": "ships",
   "language": "python",
   "name": "ships"
  },
  "language_info": {
   "codemirror_mode": {
    "name": "ipython",
    "version": 3
   },
   "file_extension": ".py",
   "mimetype": "text/x-python",
   "name": "python",
   "nbconvert_exporter": "python",
   "pygments_lexer": "ipython3",
   "version": "3.11.5"
  }
 },
 "nbformat": 4,
 "nbformat_minor": 5
}
