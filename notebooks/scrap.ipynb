{
 "cells": [
  {
   "cell_type": "code",
   "execution_count": 1,
   "id": "22a4582e-0a56-4722-b1ca-1d9645732740",
   "metadata": {},
   "outputs": [],
   "source": [
    "import pytest\n",
    "import sys"
   ]
  },
  {
   "cell_type": "code",
   "execution_count": 2,
   "id": "8fa91e98-c5b4-4d0f-b1bd-d820a906b9f0",
   "metadata": {},
   "outputs": [],
   "source": [
    "sys.path.insert(1, 'C:\\\\Users\\\\akash\\\\Documents\\\\MLProjects\\\\MLproject1\\\\model')\n",
    "\n",
    "import data"
   ]
  },
  {
   "cell_type": "code",
   "execution_count": 3,
   "id": "fd83ccd7-1e55-4371-9cc4-a41e1454be10",
   "metadata": {},
   "outputs": [],
   "source": [
    "d = data.Data(batch_size = 100)"
   ]
  },
  {
   "cell_type": "code",
   "execution_count": 4,
   "id": "5dd8c722-d212-470b-97e5-61472a8dc21f",
   "metadata": {},
   "outputs": [
    {
     "name": "stdout",
     "output_type": "stream",
     "text": [
      "Files already downloaded and verified\n",
      "50000\n",
      "Files already downloaded and verified\n"
     ]
    }
   ],
   "source": [
    "train, val = d.make_data()"
   ]
  },
  {
   "cell_type": "code",
   "execution_count": 5,
   "id": "24d7be08-1209-4794-88a1-519da2a620df",
   "metadata": {},
   "outputs": [
    {
     "data": {
      "text/plain": [
       "100"
      ]
     },
     "execution_count": 5,
     "metadata": {},
     "output_type": "execute_result"
    }
   ],
   "source": [
    "train.batch_size"
   ]
  },
  {
   "cell_type": "code",
   "execution_count": 8,
   "id": "6b8d3014-4768-4a95-a452-7327c6d6ebf6",
   "metadata": {},
   "outputs": [
    {
     "data": {
      "text/plain": [
       "50000"
      ]
     },
     "execution_count": 8,
     "metadata": {},
     "output_type": "execute_result"
    }
   ],
   "source": [
    "len(train.dataset.data)"
   ]
  },
  {
   "cell_type": "code",
   "execution_count": 1,
   "id": "c5842b0c-c6bd-4f06-bfa0-385f40313645",
   "metadata": {},
   "outputs": [],
   "source": [
    "import black"
   ]
  },
  {
   "cell_type": "code",
   "execution_count": 2,
   "id": "0bae2406-77ea-4ed6-aa3f-ada36ef6ed26",
   "metadata": {},
   "outputs": [
    {
     "data": {
      "text/plain": [
       "'C:\\\\Users\\\\akash\\\\Documents\\\\MLProjects\\\\MLproject1\\\\notebooks'"
      ]
     },
     "execution_count": 2,
     "metadata": {},
     "output_type": "execute_result"
    }
   ],
   "source": [
    "pwd()\n",
    "cd ..\n",
    "cd ./model"
   ]
  },
  {
   "cell_type": "code",
   "execution_count": 8,
   "id": "05db1b49-03ef-4435-8f9f-cf0c14307625",
   "metadata": {},
   "outputs": [
    {
     "ename": "SyntaxError",
     "evalue": "invalid syntax (685004309.py, line 1)",
     "output_type": "error",
     "traceback": [
      "\u001b[1;36m  Cell \u001b[1;32mIn[8], line 1\u001b[1;36m\u001b[0m\n\u001b[1;33m    python -m black train.py\u001b[0m\n\u001b[1;37m              ^\u001b[0m\n\u001b[1;31mSyntaxError\u001b[0m\u001b[1;31m:\u001b[0m invalid syntax\n"
     ]
    }
   ],
   "source": [
    "python -m black train.py"
   ]
  },
  {
   "cell_type": "code",
   "execution_count": null,
   "id": "11216840-0a59-43de-92d7-e07a77b25624",
   "metadata": {},
   "outputs": [],
   "source": []
  }
 ],
 "metadata": {
  "kernelspec": {
   "display_name": "ships",
   "language": "python",
   "name": "ships"
  },
  "language_info": {
   "codemirror_mode": {
    "name": "ipython",
    "version": 3
   },
   "file_extension": ".py",
   "mimetype": "text/x-python",
   "name": "python",
   "nbconvert_exporter": "python",
   "pygments_lexer": "ipython3",
   "version": "3.11.5"
  }
 },
 "nbformat": 4,
 "nbformat_minor": 5
}
