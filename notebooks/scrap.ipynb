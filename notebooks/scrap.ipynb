{
 "cells": [
  {
   "cell_type": "code",
   "execution_count": 1,
   "id": "22a4582e-0a56-4722-b1ca-1d9645732740",
   "metadata": {},
   "outputs": [],
   "source": [
    "import pytest\n",
    "import sys"
   ]
  },
  {
   "cell_type": "code",
   "execution_count": 2,
   "id": "8fa91e98-c5b4-4d0f-b1bd-d820a906b9f0",
   "metadata": {},
   "outputs": [],
   "source": [
    "sys.path.insert(1, 'C:\\\\Users\\\\akash\\\\Documents\\\\MLProjects\\\\MLproject1\\\\model')\n",
    "\n",
    "import data"
   ]
  },
  {
   "cell_type": "code",
   "execution_count": 3,
   "id": "fd83ccd7-1e55-4371-9cc4-a41e1454be10",
   "metadata": {},
   "outputs": [],
   "source": [
    "d = data.Data(batch_size = 100)"
   ]
  },
  {
   "cell_type": "code",
   "execution_count": 4,
   "id": "5dd8c722-d212-470b-97e5-61472a8dc21f",
   "metadata": {},
   "outputs": [
    {
     "name": "stdout",
     "output_type": "stream",
     "text": [
      "Files already downloaded and verified\n",
      "50000\n",
      "Files already downloaded and verified\n"
     ]
    }
   ],
   "source": [
    "train, val = d.make_data()"
   ]
  },
  {
   "cell_type": "code",
   "execution_count": 5,
   "id": "24d7be08-1209-4794-88a1-519da2a620df",
   "metadata": {},
   "outputs": [
    {
     "data": {
      "text/plain": [
       "100"
      ]
     },
     "execution_count": 5,
     "metadata": {},
     "output_type": "execute_result"
    }
   ],
   "source": [
    "train.batch_size"
   ]
  },
  {
   "cell_type": "code",
   "execution_count": 8,
   "id": "6b8d3014-4768-4a95-a452-7327c6d6ebf6",
   "metadata": {},
   "outputs": [
    {
     "data": {
      "text/plain": [
       "50000"
      ]
     },
     "execution_count": 8,
     "metadata": {},
     "output_type": "execute_result"
    }
   ],
   "source": [
    "len(train.dataset.data)"
   ]
  },
  {
   "cell_type": "code",
   "execution_count": null,
   "id": "c5842b0c-c6bd-4f06-bfa0-385f40313645",
   "metadata": {},
   "outputs": [],
   "source": []
  },
  {
   "cell_type": "code",
   "execution_count": null,
   "id": "0bae2406-77ea-4ed6-aa3f-ada36ef6ed26",
   "metadata": {},
   "outputs": [],
   "source": []
  },
  {
   "cell_type": "code",
   "execution_count": null,
   "id": "6d335e61-4fef-4640-90e1-6cfcf83a57b6",
   "metadata": {},
   "outputs": [],
   "source": []
  },
  {
   "cell_type": "code",
   "execution_count": null,
   "id": "33824fde-4b94-47b1-a51c-0c8887ed6794",
   "metadata": {},
   "outputs": [],
   "source": []
  },
  {
   "cell_type": "code",
   "execution_count": null,
   "id": "05db1b49-03ef-4435-8f9f-cf0c14307625",
   "metadata": {},
   "outputs": [],
   "source": []
  }
 ],
 "metadata": {
  "kernelspec": {
   "display_name": "ships",
   "language": "python",
   "name": "ships"
  },
  "language_info": {
   "codemirror_mode": {
    "name": "ipython",
    "version": 3
   },
   "file_extension": ".py",
   "mimetype": "text/x-python",
   "name": "python",
   "nbconvert_exporter": "python",
   "pygments_lexer": "ipython3",
   "version": "3.11.5"
  }
 },
 "nbformat": 4,
 "nbformat_minor": 5
}
